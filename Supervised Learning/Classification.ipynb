{
 "cells": [
  {
   "cell_type": "markdown",
   "id": "b4bb260f-eaa6-4d09-8ef0-4709a3f247da",
   "metadata": {},
   "source": [
    "# Description\n",
    "The notations of the parameters used in this notebook are as followed:\n",
    "- raw_df      = imported dataset\n",
    "- data        = gathered samples\n",
    "- target      = labels regarding each data\n",
    "- scaled_data = Standardized data\n",
    "- x_train     = data used for training the model\n",
    "- y_train     = targets used for training the model\n",
    "- x_test      = data used to test the model\n",
    "- y_test      = targets used to test the model\n",
    "- y_pred      = predicted targets by the model"
   ]
  },
  {
   "cell_type": "markdown",
   "id": "57b883fd-71f1-48ac-aacf-24725bbd3857",
   "metadata": {},
   "source": [
    "# Parameter Selection"
   ]
  },
  {
   "cell_type": "code",
   "execution_count": 1,
   "id": "a6c3d11e-1476-43b0-bdd4-e386b6e2793a",
   "metadata": {},
   "outputs": [],
   "source": [
    "classification_mode = 42\n",
    "# 1: for Logistic regression\n",
    "    # 11: for from scratch code\n",
    "    # 12: for scikit-learn code\n",
    "# 2: for Decision Trees\n",
    "    # 21: for from scratch code\n",
    "    # 22: for scikit-Learn code\n",
    "# 3: for Ensemble Learning\n",
    "    # 31: for from scratch \n",
    "        # 311: for Random Forest Classifier\n",
    "        # 312: for AdaBoost Classifier\n",
    "    # 32: for scikit-learn code\n",
    "        # 321: for Random Forest Classifier\n",
    "        # 322: for AdaBoost Classifier\n",
    "        # 323: for Bagging Classifier\n",
    "        # 324: for Voting Classifier\n",
    "    # 33: for XGBoost    \n",
    "# 4: for K-Nearest Neighbor\n",
    "    # 41: for from scratch code\n",
    "    # 42: for scikit-learn code\n",
    "# 5: for Neural Network\n",
    "    # 51: for from scratch code\n",
    "    # 52: for Tensorflow code\n",
    "    # 53: for PyTorch code\n",
    "# 6: for SVM\n",
    "    # 62: for scikit-Learn code\n",
    "\n",
    "dataset = 2\n",
    "# 1: for breast cancer\n",
    "# 2: for IRIS\n",
    "# 3: for Numbers Handwriting\n"
   ]
  },
  {
   "cell_type": "markdown",
   "id": "a94a0a09-12ab-47e3-8b18-a3302b5f89a9",
   "metadata": {},
   "source": [
    "# Load Library"
   ]
  },
  {
   "cell_type": "code",
   "execution_count": 2,
   "id": "e32c9fb9-c388-498b-860a-c92ff3cbb9f3",
   "metadata": {},
   "outputs": [],
   "source": [
    "import numpy as np\n",
    "import pandas as pd\n",
    "import matplotlib.pyplot as plt\n",
    "from sklearn.preprocessing import StandardScaler\n",
    "from sklearn.model_selection import train_test_split\n",
    "from sklearn.metrics import confusion_matrix, ConfusionMatrixDisplay, classification_report\n",
    "from sklearn.metrics import accuracy_score"
   ]
  },
  {
   "cell_type": "markdown",
   "id": "e4330892-2493-4aff-9d4f-1adb7bf8ff2a",
   "metadata": {},
   "source": [
    "# Load Dataset and Primary Data Preparation"
   ]
  },
  {
   "cell_type": "code",
   "execution_count": 3,
   "id": "becfd085-f862-4463-8136-bf1a79ad23d9",
   "metadata": {},
   "outputs": [],
   "source": [
    "if dataset == 1:\n",
    "    from sklearn.datasets import load_breast_cancer\n",
    "    raw_df_tmp = load_breast_cancer()\n",
    "    raw_df = pd.DataFrame(raw_df_tmp.data, columns=raw_df_tmp.feature_names)\n",
    "    raw_df[\"Cancer Type\"]=raw_df_tmp.target\n",
    "    data_end_index=-2\n",
    "    data=raw_df.iloc[:,0:data_end_index+1]\n",
    "    target=raw_df.iloc[:,-1]\n",
    "elif dataset == 2:\n",
    "    from sklearn.datasets import load_iris\n",
    "    raw_df_tmp = load_iris()\n",
    "    raw_df = pd.DataFrame(raw_df_tmp.data, columns=raw_df_tmp.feature_names)\n",
    "    raw_df[\"IRIS Type\"]=raw_df_tmp.target\n",
    "    data_end_index=-2\n",
    "    data=raw_df.iloc[:,0:data_end_index+1]\n",
    "    target=raw_df.iloc[:,-1]\n",
    "elif dataset == 3:\n",
    "    import requests\n",
    "    from io import BytesIO\n",
    "    file_url1 = \"https://raw.githubusercontent.com/mghadian/Machine-Learning/main/Handwriting_X.npy\"\n",
    "    file_url2 = \"https://raw.githubusercontent.com/mghadian/Machine-Learning/main/Handwriting_y.npy\"\n",
    "    response = requests.get(file_url1)\n",
    "    data = np.load(BytesIO(response.content), allow_pickle=True)\n",
    "    response = requests.get(file_url2)\n",
    "    target = np.load(BytesIO(response.content), allow_pickle=True)"
   ]
  },
  {
   "cell_type": "markdown",
   "id": "a7692288-07de-4e32-9010-a8a669a38db6",
   "metadata": {},
   "source": [
    "# Data Preparation"
   ]
  },
  {
   "cell_type": "markdown",
   "id": "42f56caf-6889-45fb-9fde-477e3a1cb10d",
   "metadata": {},
   "source": [
    "## Data Normalization"
   ]
  },
  {
   "cell_type": "code",
   "execution_count": 4,
   "id": "da3abcc4-5891-4ae6-b6b7-8b6911f2c6d1",
   "metadata": {},
   "outputs": [],
   "source": [
    "# Standardizing the features\n",
    "scaler = StandardScaler()\n",
    "scaled_data = scaler.fit_transform(data)"
   ]
  },
  {
   "cell_type": "markdown",
   "id": "8626102a-b957-49ca-83ad-010f2f2eb26c",
   "metadata": {},
   "source": [
    "# Visualization"
   ]
  },
  {
   "cell_type": "code",
   "execution_count": 5,
   "id": "7e10c782-cac9-4aab-be30-772291d70c21",
   "metadata": {},
   "outputs": [],
   "source": [
    "if dataset == 3:\n",
    "    m, n = data.shape\n",
    "    fig, axes = plt.subplots(8,8,figsize=(8,8))\n",
    "    fig.tight_layout(pad=0.1)\n",
    "    for i,ax in enumerate(axes.flat):\n",
    "        random_index = np.random.randint(m)\n",
    "        X_random_reshaped = data[random_index].reshape((20,20)).T\n",
    "        ax.imshow(X_random_reshaped, cmap='gray')\n",
    "        ax.set_title(target[random_index,0])\n",
    "        ax.set_axis_off()\n",
    "else:\n",
    "    raw_df"
   ]
  },
  {
   "cell_type": "markdown",
   "id": "1b8e43d3-cfd1-45c9-8c37-f8bae45d6984",
   "metadata": {},
   "source": [
    "# Creation of Training & Test Data"
   ]
  },
  {
   "cell_type": "code",
   "execution_count": 6,
   "id": "ba6e9c29-2999-4f5c-b49c-ba83f21aecf4",
   "metadata": {},
   "outputs": [],
   "source": [
    "x_train,x_test,y_train,y_test=train_test_split(scaled_data,target,test_size=0.3, random_state=42)"
   ]
  },
  {
   "cell_type": "markdown",
   "id": "831ea7e6-11d9-4d1e-83e4-070975116fa4",
   "metadata": {},
   "source": [
    "# Classification"
   ]
  },
  {
   "cell_type": "markdown",
   "id": "a624df90-2cae-456d-9100-d365f8f72e99",
   "metadata": {},
   "source": [
    "## Logistic regression"
   ]
  },
  {
   "cell_type": "code",
   "execution_count": 7,
   "id": "2db16dfd-a53a-427d-89dc-239e83187279",
   "metadata": {},
   "outputs": [],
   "source": [
    "if classification_mode == 1:\n",
    "    print('Please define `from scratch` implementation or `scikit-learn` implimentation') \n",
    "    print('by using 11 or 12 for `classification_mode` parameter in the `parameter selection` cell')"
   ]
  },
  {
   "cell_type": "markdown",
   "id": "36c670fc-2a8d-4aee-b218-f8595d32f5c0",
   "metadata": {},
   "source": [
    "### From scratch"
   ]
  },
  {
   "cell_type": "code",
   "execution_count": 8,
   "id": "ef822555-30f1-4133-9965-0e11713ef8df",
   "metadata": {},
   "outputs": [],
   "source": [
    "if classification_mode == 11:\n",
    "    class LogisticRegression:\n",
    "        def __init__(self, learning_rate=0.1, max_iter=1000, tol=1e-4, verbose=False):\n",
    "            self.learning_rate = learning_rate\n",
    "            self.max_iter = max_iter\n",
    "            self.tol = tol\n",
    "            self.verbose = verbose\n",
    "        \n",
    "        def _softmax(self, z):\n",
    "            exp_z = np.exp(z - np.max(z, axis=1, keepdims=True))\n",
    "            return exp_z / np.sum(exp_z, axis=1, keepdims=True)\n",
    "        \n",
    "        def _cross_entropy_loss(self, y_true, y_pred):\n",
    "            # Add small epsilon to prevent log(0)\n",
    "            epsilon = 1e-15\n",
    "            y_pred = np.clip(y_pred, epsilon, 1 - epsilon)\n",
    "            return -np.mean(np.sum(y_true * np.log(y_pred), axis=1))\n",
    "        \n",
    "        def _one_hot_encode(self, y):\n",
    "            n_classes = len(self.classes_)\n",
    "            return np.eye(n_classes)[y]\n",
    "        \n",
    "        def fit(self, X, y):        \n",
    "            # Get unique classes and setup\n",
    "            self.classes_ = np.unique(y)\n",
    "            n_classes = len(self.classes_)\n",
    "            n_samples, n_features = X.shape\n",
    "\n",
    "            self.weights = np.zeros((n_classes, n_features))\n",
    "            self.bias = np.zeros(n_classes)\n",
    "            \n",
    "            # Convert y to one-hot encoding\n",
    "            y_encoded = self._one_hot_encode(np.searchsorted(self.classes_, y))\n",
    "            \n",
    "            prev_loss = float('inf')\n",
    "            \n",
    "            for i in range(self.max_iter):\n",
    "                # Forward pass\n",
    "                logits = np.dot(X, self.weights.T) + self.bias\n",
    "                probabilities = self._softmax(logits)\n",
    "                \n",
    "                # Calculate loss\n",
    "                loss = self._cross_entropy_loss(y_encoded, probabilities)\n",
    "                \n",
    "                if self.verbose and i % 100 == 0:\n",
    "                    print(f\"Iteration {i}, Loss: {loss}\")\n",
    "                \n",
    "                # Check for convergence\n",
    "                if abs(prev_loss - loss) < self.tol:\n",
    "                    if self.verbose:\n",
    "                        print(f\"Converged at iteration {i}\")\n",
    "                    break\n",
    "                prev_loss = loss\n",
    "                \n",
    "                # Backward pass\n",
    "                gradient = probabilities - y_encoded\n",
    "                dw = np.dot(gradient.T, X) / n_samples\n",
    "                db = np.mean(gradient, axis=0)\n",
    "                \n",
    "                # Update parameters\n",
    "                self.weights -= self.learning_rate * dw\n",
    "                self.bias -= self.learning_rate * db\n",
    "        \n",
    "        def predict_proba(self, X):\n",
    "            logits = np.dot(X, self.weights.T) + self.bias\n",
    "            return self._softmax(logits)\n",
    "        \n",
    "        def predict(self, X):\n",
    "            proba = self.predict_proba(X)\n",
    "            return self.classes_[np.argmax(proba, axis=1)]\n",
    "    \n",
    "    cls = LogisticRegression(verbose=True)"
   ]
  },
  {
   "cell_type": "markdown",
   "id": "a2b31b0a-bee9-4ccf-9308-419075bfb362",
   "metadata": {},
   "source": [
    "### Using Scikit-Learn"
   ]
  },
  {
   "cell_type": "code",
   "execution_count": 9,
   "id": "9033f606-72db-4205-a5dd-1e5f49816652",
   "metadata": {},
   "outputs": [],
   "source": [
    "if classification_mode == 12:\n",
    "    from sklearn.linear_model import LogisticRegression\n",
    "    cls=LogisticRegression()"
   ]
  },
  {
   "cell_type": "markdown",
   "id": "2941e9ba-392c-4f36-b521-9476b00a7b68",
   "metadata": {},
   "source": [
    "## Decision Trees"
   ]
  },
  {
   "cell_type": "code",
   "execution_count": 10,
   "id": "c7a9ae8d-249a-4b1a-bdfa-d7781f8771b2",
   "metadata": {},
   "outputs": [],
   "source": [
    "if classification_mode == 2:\n",
    "    print('Please define `from scratch` implementation or `scikit-learn` implimentation') \n",
    "    print('by using 22 or 22 for `classification_mode` parameter in the `parameter selection` cell')"
   ]
  },
  {
   "cell_type": "markdown",
   "id": "81c6402c-6f9c-4057-b65c-f8e870acdd21",
   "metadata": {},
   "source": [
    "#### From Scratch"
   ]
  },
  {
   "cell_type": "code",
   "execution_count": 11,
   "id": "c255ddc9-7a51-4776-ab58-07ae722ee93f",
   "metadata": {},
   "outputs": [],
   "source": [
    "if classification_mode == 21:\n",
    "    from collections import Counter\n",
    "    \n",
    "    class DecisionTreeClassifier:\n",
    "        def __init__(self, max_depth=None, min_samples_split=2):\n",
    "            self.max_depth = max_depth\n",
    "            self.min_samples_split = min_samples_split\n",
    "            self.tree = None\n",
    "        \n",
    "        def _entropy(self, y):\n",
    "            counts = np.bincount(y)\n",
    "            probabilities = counts / len(y)\n",
    "            return -np.sum([p * np.log2(p) for p in probabilities if p > 0])\n",
    "        \n",
    "        def _information_gain(self, X, y, feature_idx, threshold):\n",
    "            # Split data\n",
    "            left_mask = X[:, feature_idx] <= threshold\n",
    "            right_mask = ~left_mask\n",
    "            \n",
    "            if np.sum(left_mask) == 0 or np.sum(right_mask) == 0:\n",
    "                return 0\n",
    "            \n",
    "            # Calculate child entropies\n",
    "            n = len(y)\n",
    "            n_left, n_right = np.sum(left_mask), np.sum(right_mask)\n",
    "            e_left, e_right = self._entropy(y[left_mask]), self._entropy(y[right_mask])\n",
    "            child_entropy = (n_left / n) * e_left + (n_right / n) * e_right\n",
    "            \n",
    "            # Calculate information gain\n",
    "            return self._entropy(y) - child_entropy\n",
    "        \n",
    "        def _best_split(self, X, y):\n",
    "            best_gain = -1\n",
    "            best_feature, best_threshold = None, None\n",
    "            \n",
    "            for feature_idx in range(X.shape[1]):\n",
    "                thresholds = np.unique(X[:, feature_idx])\n",
    "                for threshold in thresholds:\n",
    "                    gain = self._information_gain(X, y, feature_idx, threshold)\n",
    "                    if gain > best_gain:\n",
    "                        best_gain = gain\n",
    "                        best_feature = feature_idx\n",
    "                        best_threshold = threshold\n",
    "                        \n",
    "            return best_feature, best_threshold\n",
    "        \n",
    "        def _build_tree(self, X, y, depth=0):\n",
    "            self.classes_ = np.unique(y)\n",
    "            n_samples, n_features = X.shape\n",
    "            n_classes = len(self.classes_)\n",
    "            \n",
    "            # Stopping criteria\n",
    "            if (depth == self.max_depth or n_samples < self.min_samples_split or n_classes == 1):\n",
    "                return Counter(y).most_common(1)[0][0]\n",
    "            \n",
    "            # Find best split\n",
    "            feature_idx, threshold = self._best_split(X, y)\n",
    "            \n",
    "            if feature_idx is None:  # No split improves purity\n",
    "                return Counter(y).most_common(1)[0][0]\n",
    "            \n",
    "            # Recursive split\n",
    "            left_mask = X[:, feature_idx] <= threshold\n",
    "            right_mask = ~left_mask\n",
    "            \n",
    "            left_subtree = self._build_tree(X[left_mask], y[left_mask], depth+1)\n",
    "            right_subtree = self._build_tree(X[right_mask], y[right_mask], depth+1)\n",
    "            \n",
    "            return (feature_idx, threshold, left_subtree, right_subtree)\n",
    "        \n",
    "        def fit(self, X, y):\n",
    "            self.tree = self._build_tree(X, y)\n",
    "        \n",
    "        def _predict_sample(self, x, node):\n",
    "            if isinstance(node, (int, np.integer)):  # Leaf node\n",
    "                return node\n",
    "            \n",
    "            feature_idx, threshold, left, right = node\n",
    "            if x[feature_idx] <= threshold:\n",
    "                return self._predict_sample(x, left)\n",
    "            else:\n",
    "                return self._predict_sample(x, right)\n",
    "        \n",
    "        def predict(self, X):\n",
    "            return np.array([self._predict_sample(x, self.tree) for x in X])\n",
    "            \n",
    "    cls = DecisionTreeClassifier(max_depth=3)"
   ]
  },
  {
   "cell_type": "markdown",
   "id": "2e9db64f-c702-418f-87eb-6fb3c9356329",
   "metadata": {},
   "source": [
    "#### Using Scikit-Learn"
   ]
  },
  {
   "cell_type": "code",
   "execution_count": 12,
   "id": "502873c3-956f-4954-8c18-db537d05599d",
   "metadata": {},
   "outputs": [],
   "source": [
    "if classification_mode == 22:\n",
    "    from sklearn.tree import DecisionTreeClassifier, plot_tree\n",
    "    cls = DecisionTreeClassifier(max_depth=3, random_state=42)"
   ]
  },
  {
   "cell_type": "markdown",
   "id": "32ccbbe6-ea4e-4909-af44-f4255812fe40",
   "metadata": {},
   "source": [
    "## Ensemble Learning"
   ]
  },
  {
   "cell_type": "markdown",
   "id": "2aaec3ab-5b8d-483e-87ad-eeea599b1dc9",
   "metadata": {},
   "source": [
    "### From Scratch\n",
    "#### Random Forest Classifier"
   ]
  },
  {
   "cell_type": "code",
   "execution_count": 13,
   "id": "53be46be-9c70-47d7-9ea6-0b19efccc3c8",
   "metadata": {},
   "outputs": [],
   "source": [
    "if classification_mode == 311:\n",
    "    import numpy as np\n",
    "    from sklearn.tree import DecisionTreeClassifier\n",
    "    \n",
    "    class RandomForestClassifier:\n",
    "        def __init__(self, n_estimators=100, max_depth=None, max_features='sqrt', random_state=None):\n",
    "            self.n_estimators = n_estimators\n",
    "            self.max_depth = max_depth\n",
    "            self.max_features = max_features\n",
    "            self.random_state = random_state\n",
    "            self.trees = []\n",
    "            \n",
    "        def _bootstrap_sample(self, X, y):\n",
    "            n_samples = X.shape[0]\n",
    "            idxs = np.random.RandomState(self.random_state).choice(n_samples, n_samples, replace=True)\n",
    "            return X[idxs], y[idxs]\n",
    "        \n",
    "        def fit(self, X, y):\n",
    "            # Convert to numpy arrays if they're pandas objects\n",
    "            if hasattr(X, 'values'):\n",
    "                X = X.values\n",
    "            if hasattr(y, 'values'):\n",
    "                y = y.values\n",
    "                \n",
    "            self.trees = []\n",
    "            n_features = X.shape[1]\n",
    "            \n",
    "            if self.max_features == 'sqrt':\n",
    "                max_features = int(np.sqrt(n_features))\n",
    "            elif self.max_features == 'log2':\n",
    "                max_features = int(np.log2(n_features))\n",
    "            else:\n",
    "                max_features = n_features\n",
    "            \n",
    "            for i in range(self.n_estimators):\n",
    "                tree = DecisionTreeClassifier( max_depth=self.max_depth, max_features=max_features,\n",
    "                    random_state=self.random_state + i if self.random_state is not None else None\n",
    "                )\n",
    "                X_sample, y_sample = self._bootstrap_sample(X, y)\n",
    "                tree.fit(X_sample, y_sample)\n",
    "                self.trees.append(tree)\n",
    "        \n",
    "        def predict(self, X):\n",
    "            # Convert to numpy if it's a pandas object\n",
    "            if hasattr(X, 'values'):\n",
    "                X = X.values\n",
    "                \n",
    "            tree_preds = np.array([tree.predict(X) for tree in self.trees])\n",
    "            return np.array([np.bincount(tree_preds[:,i]).argmax() for i in range(X.shape[0])])\n",
    "            \n",
    "    cls = RandomForestClassifier(n_estimators=50, max_depth=3)\n"
   ]
  },
  {
   "cell_type": "markdown",
   "id": "2e2251b2-d755-4359-8fc1-ef0701d45a0b",
   "metadata": {},
   "source": [
    "#### AdaBoost Classifier "
   ]
  },
  {
   "cell_type": "code",
   "execution_count": 14,
   "id": "5abf9ac3-f96e-47c6-9f5b-4bb59df15288",
   "metadata": {},
   "outputs": [],
   "source": [
    "if classification_mode == 312:\n",
    "    from sklearn.tree import DecisionTreeClassifier\n",
    "    class AdaBoostClassifier:\n",
    "        def __init__(self, n_estimators=50):\n",
    "            self.n_estimators = n_estimators\n",
    "            self.models = []\n",
    "            self.alphas = []\n",
    "            self.classes_ = None\n",
    "    \n",
    "        def fit(self, X, y):\n",
    "            self.classes_ = np.unique(y)\n",
    "            n_classes = len(self.classes_)\n",
    "            n_samples = X.shape[0]\n",
    "            w = np.ones(n_samples) / n_samples\n",
    "    \n",
    "            for _ in range(self.n_estimators):\n",
    "                # Fit a weak learner (decision stump)\n",
    "                tree = DecisionTreeClassifier(max_depth=1)\n",
    "                tree.fit(X, y, sample_weight=w)\n",
    "                pred = tree.predict(X)\n",
    "    \n",
    "                # Compute weighted error\n",
    "                incorrect = (pred != y)\n",
    "                err = np.sum(w * incorrect) / np.sum(w)\n",
    "    \n",
    "                # Compute alpha\n",
    "                alpha = np.log((1 - err) / (err + 1e-10)) + np.log(n_classes - 1)\n",
    "    \n",
    "                # Update weights\n",
    "                w *= np.exp(alpha * incorrect)\n",
    "                w /= np.sum(w)\n",
    "    \n",
    "                self.models.append(tree)\n",
    "                self.alphas.append(alpha)\n",
    "    \n",
    "        def predict(self, X):\n",
    "            n_samples = X.shape[0]\n",
    "            n_classes = len(self.classes_)\n",
    "            scores = np.zeros((n_samples, n_classes))\n",
    "    \n",
    "            # Weighted vote for each class\n",
    "            for alpha, model in zip(self.alphas, self.models):\n",
    "                pred = model.predict(X)\n",
    "                for i, c in enumerate(self.classes_):\n",
    "                    scores[:, i] += alpha * (pred == c)\n",
    "    \n",
    "            # Return class with highest score\n",
    "            return self.classes_[np.argmax(scores, axis=1)]\n",
    "\n",
    "    cls = AdaBoostClassifier(n_estimators=50)\n"
   ]
  },
  {
   "cell_type": "markdown",
   "id": "578e2a44-d9c8-4d35-a875-888a24340947",
   "metadata": {},
   "source": [
    "### Using Scikit-Learn"
   ]
  },
  {
   "cell_type": "code",
   "execution_count": 15,
   "id": "febebd48-e16b-404b-a8be-01d9fa28e2d7",
   "metadata": {},
   "outputs": [],
   "source": [
    "if classification_mode == 321:\n",
    "    from sklearn.ensemble import RandomForestClassifier\n",
    "    cls = RandomForestClassifier(n_estimators=100, max_depth=5)\n",
    "elif classification_mode == 322:\n",
    "    from sklearn.ensemble import AdaBoostClassifier\n",
    "    cls = AdaBoostClassifier(n_estimators=100)\n",
    "elif classification_mode == 323:\n",
    "    from sklearn.ensemble import BaggingClassifier\n",
    "    from sklearn.tree import DecisionTreeClassifier\n",
    "    dt_clf = DecisionTreeClassifier(max_depth=5)\n",
    "    cls = BaggingClassifier(estimator=dt_clf, n_estimators=100, max_samples=0.8, bootstrap=True)\n",
    "elif classification_mode == 324:\n",
    "    from sklearn.ensemble import VotingClassifier\n",
    "    from sklearn.linear_model import LogisticRegression\n",
    "    from sklearn.svm import SVC\n",
    "    from sklearn.tree import DecisionTreeClassifier\n",
    "    dt_clf = DecisionTreeClassifier(max_depth=5)\n",
    "    log_clf = LogisticRegression(max_iter=1000)\n",
    "    svm_clf = SVC(probability=True)\n",
    "    cls = VotingClassifier(estimators=[ ('lr', log_clf), ('svc', svm_clf), ('dt', dt_clf)], voting='hard')"
   ]
  },
  {
   "cell_type": "markdown",
   "id": "c9135036-e98b-45bf-90ef-faff72dc0cdc",
   "metadata": {},
   "source": [
    "### XGBoost"
   ]
  },
  {
   "cell_type": "code",
   "execution_count": 16,
   "id": "2849fad9-7eec-4b57-95a9-c20e2c0f9bd0",
   "metadata": {},
   "outputs": [],
   "source": [
    "if classification_mode == 33:\n",
    "    from xgboost import XGBClassifier\n",
    "    cls = XGBClassifier(n_estimators=100, learning_rate=0.1, max_depth=3)"
   ]
  },
  {
   "cell_type": "markdown",
   "id": "de676866-9218-4a38-bf0a-ebd5035eae6d",
   "metadata": {},
   "source": [
    "## K-Nearest Neighbors (K-NN)\n",
    "### From scratch"
   ]
  },
  {
   "cell_type": "code",
   "execution_count": 17,
   "id": "3ed732e3-f422-413f-a9ba-0e8d292bbede",
   "metadata": {},
   "outputs": [],
   "source": [
    "if classification_mode == 41:\n",
    "    from collections import Counter\n",
    "    \n",
    "    class KNNClassifier:\n",
    "        def __init__(self, k=5):\n",
    "            self.k = k\n",
    "            self.X_train = None\n",
    "            self.y_train = None\n",
    "        \n",
    "        def fit(self, X, y):\n",
    "            # Convert to numpy arrays if they're pandas objects\n",
    "            self.X_train = np.array(X)\n",
    "            self.y_train = np.array(y)\n",
    "        \n",
    "        def predict(self, X):\n",
    "            X = np.array(X)\n",
    "            predictions = [self._predict(x) for x in X]\n",
    "            return np.array(predictions)\n",
    "        \n",
    "        def _predict(self, x):\n",
    "            # Compute distances (Euclidean)\n",
    "            distances = np.sqrt(np.sum((self.X_train - x)**2, axis=1))\n",
    "            \n",
    "            # Get indices of k nearest neighbors\n",
    "            k_indices = np.argpartition(distances, self.k)[:self.k]\n",
    "            \n",
    "            # Get labels of these neighbors\n",
    "            k_nearest_labels = self.y_train[k_indices]\n",
    "            \n",
    "            # Return most common class label\n",
    "            most_common = Counter(k_nearest_labels).most_common(1)\n",
    "            return most_common[0][0]\n",
    "            \n",
    "    cls = KNNClassifier(k=3)"
   ]
  },
  {
   "cell_type": "markdown",
   "id": "50059f29-45d0-4d6a-860d-117ca51116a3",
   "metadata": {},
   "source": [
    "### Using Scikit-Learn"
   ]
  },
  {
   "cell_type": "code",
   "execution_count": 18,
   "id": "a9ef9a67-1687-4a3e-8321-c14dad9df8f0",
   "metadata": {},
   "outputs": [
    {
     "data": {
      "image/png": "[encoded data removed]",
      "text/plain": [
       "<Figure size 1000x600 with 1 Axes>"
      ]
     },
     "metadata": {},
     "output_type": "display_data"
    },
    {
     "name": "stdout",
     "output_type": "stream",
     "text": [
      "Optimal k value: 1\n"
     ]
    }
   ],
   "source": [
    "if classification_mode == 42:\n",
    "    from sklearn.neighbors import KNeighborsClassifier\n",
    "    from sklearn.model_selection import cross_val_score\n",
    "    \n",
    "    # Find best k\n",
    "    k_values = range(1, 20)\n",
    "    cv_scores = []\n",
    "    \n",
    "    for k in k_values:\n",
    "        knn = KNeighborsClassifier(n_neighbors=k)\n",
    "        scores = cross_val_score(knn, x_train, y_train, cv=5, scoring='accuracy')\n",
    "        cv_scores.append(scores.mean())\n",
    "        \n",
    "    # Plot accuracy vs k\n",
    "    plt.figure(figsize=(10, 6))\n",
    "    plt.plot(k_values, cv_scores, marker='o')\n",
    "    plt.xlabel('k Value')\n",
    "    plt.ylabel('Cross-Validated Accuracy')\n",
    "    plt.title('Finding Optimal k')\n",
    "    plt.xticks(k_values)\n",
    "    plt.grid()\n",
    "    plt.show()\n",
    "    \n",
    "    best_k = k_values[np.argmax(cv_scores)]\n",
    "    print(f\"Optimal k value: {best_k}\")\n",
    "    \n",
    "    cls = KNeighborsClassifier(n_neighbors=best_k)"
   ]
  },
  {
   "cell_type": "markdown",
   "id": "ec843c88-70c2-4d26-a467-e7315d1a3e6f",
   "metadata": {},
   "source": [
    "## Neural Network\n",
    "For production use, the TensorFlow/Keras implementation is recommended due to its simplicity and optimization. The from-scratch version helps understand fundamentals, while PyTorch offers more flexibility for research.\n",
    "### From Scratch"
   ]
  },
  {
   "cell_type": "code",
   "execution_count": 19,
   "id": "d342460d-f44d-490e-98aa-9033e45d05a7",
   "metadata": {},
   "outputs": [],
   "source": [
    "if classification_mode == 51:\n",
    "    from sklearn.preprocessing import OneHotEncoder\n",
    "    \n",
    "    class NeuralNetwork:\n",
    "        def __init__(self, input_size, hidden_size, output_size):\n",
    "            # Weight initialization\n",
    "            self.W1 = np.random.randn(input_size, hidden_size) * 0.01\n",
    "            self.b1 = np.zeros((1, hidden_size))\n",
    "            self.W2 = np.random.randn(hidden_size, output_size) * 0.01\n",
    "            self.b2 = np.zeros((1, output_size))\n",
    "        \n",
    "        def sigmoid(self, x):\n",
    "            return 1 / (1 + np.exp(-x))\n",
    "        \n",
    "        def softmax(self, x):\n",
    "            exps = np.exp(x - np.max(x, axis=1, keepdims=True))\n",
    "            return exps / np.sum(exps, axis=1, keepdims=True)\n",
    "        \n",
    "        def forward(self, X):\n",
    "            self.z1 = np.dot(X, self.W1) + self.b1\n",
    "            self.a1 = np.tanh(self.z1)\n",
    "            self.z2 = np.dot(self.a1, self.W2) + self.b2\n",
    "            self.a2 = self.softmax(self.z2)\n",
    "            return self.a2\n",
    "        \n",
    "        def backward(self, X, y, output, learning_rate):\n",
    "            m = y.shape[0]\n",
    "            dz2 = output - y\n",
    "            dW2 = (1/m) * np.dot(self.a1.T, dz2)\n",
    "            db2 = (1/m) * np.sum(dz2, axis=0, keepdims=True)\n",
    "            dz1 = np.dot(dz2, self.W2.T) * (1 - np.power(self.a1, 2))\n",
    "            dW1 = (1/m) * np.dot(X.T, dz1)\n",
    "            db1 = (1/m) * np.sum(dz1, axis=0)\n",
    "            \n",
    "            self.W1 -= learning_rate * dW1\n",
    "            self.b1 -= learning_rate * db1\n",
    "            self.W2 -= learning_rate * dW2\n",
    "            self.b2 -= learning_rate * db2\n",
    "        \n",
    "        def fit(self, X, y, epochs=1000, learning_rate=0.01):\n",
    "            y = np.array(y).reshape(-1, 1)\n",
    "            # Convert y to one-hot encoding if needed\n",
    "            if len(y.shape) == 1 or y.shape[1] == 1:\n",
    "                encoder = OneHotEncoder(sparse_output=False)\n",
    "                y_encoded = encoder.fit_transform(y.reshape(-1, 1))\n",
    "            else:\n",
    "                y_encoded = y\n",
    "                \n",
    "            for i in range(epochs):\n",
    "                output = self.forward(X)\n",
    "                self.backward(X, y_encoded, output, learning_rate)\n",
    "                if i % 100 == 0:\n",
    "                    loss = self.cross_entropy_loss(y_encoded, output)\n",
    "                    print(f\"Epoch {i}, Loss: {loss:.4f}\")\n",
    "        \n",
    "        def cross_entropy_loss(self, y_true, y_pred):\n",
    "            m = y_true.shape[0]\n",
    "            loss = -np.sum(y_true * np.log(y_pred + 1e-10)) / m\n",
    "            return loss\n",
    "        \n",
    "        def predict(self, X):\n",
    "            return np.argmax(self.forward(X), axis=1)\n",
    "    \n",
    "    input_size = x_train.shape[1]\n",
    "    hidden_size = 10\n",
    "    output_size = len(np.unique(y_train))\n",
    "    cls = NeuralNetwork(input_size, hidden_size, output_size)\n",
    "    "
   ]
  },
  {
   "cell_type": "markdown",
   "id": "ff4f071b-b2a2-4aeb-ab50-a4595f25fef0",
   "metadata": {},
   "source": [
    "### Using Tensorflow\n",
    "Since this is one of the most prefered models for classification, it is enhanced using fine tuning as well."
   ]
  },
  {
   "cell_type": "code",
   "execution_count": 20,
   "id": "33bd0baa-a4c8-47df-b187-055eeeb651e9",
   "metadata": {
    "scrolled": true
   },
   "outputs": [],
   "source": [
    "if classification_mode == 52:\n",
    "    import tensorflow as tf\n",
    "    from tensorflow import keras\n",
    "    from tensorflow.keras.layers import Dense, Dropout, Input\n",
    "    from tensorflow.keras.models import Sequential\n",
    "    import keras_tuner as kt\n",
    "    \n",
    "    def build_flexible_nn(hp):\n",
    "        model = Sequential()\n",
    "        model.add(Input(shape=(x_train.shape[1],)))\n",
    "        \n",
    "        # Input layer\n",
    "        model.add(Dense(units=hp.Int('input_units', 128, 1024, step=128), activation='relu',\n",
    "            kernel_regularizer=keras.regularizers.l2(0.001)))\n",
    "        model.add(Dropout(0.3))\n",
    "        \n",
    "        # Hidden layers\n",
    "        for i in range(hp.Int('n_layers', 1, 4)):\n",
    "            model.add(Dense(units=hp.Int(f'hidden_{i}_units', 64, 512, step=64), activation=hp.Choice(f'act_{i}', ['relu', 'tanh', 'elu']),\n",
    "                kernel_regularizer=keras.regularizers.l2(0.001)))\n",
    "            model.add(Dropout(0.3))\n",
    "        \n",
    "        # Output layer\n",
    "        n_classes = len(np.unique(y_train))\n",
    "        model.add(Dense(n_classes, activation='softmax' if n_classes > 2 else 'sigmoid'))\n",
    "        \n",
    "        # Compile\n",
    "        optimizer = keras.optimizers.Adam(hp.Float('learning_rate', 1e-5, 1e-3, sampling='log'), weight_decay=1e-4)\n",
    "        model.compile(optimizer=optimizer,loss='sparse_categorical_crossentropy' if n_classes > 2 else 'binary_crossentropy', metrics=['accuracy'])\n",
    "        return model\n",
    "    \n",
    "    tuner = kt.RandomSearch( build_flexible_nn, objective='val_accuracy', max_trials=15, executions_per_trial=1,\n",
    "        directory='nn_tuning', project_name='flexible_nn', overwrite=True)\n",
    "    \n",
    "    # Add validation split\n",
    "    x_train_tune, x_val, y_train_tune, y_val = train_test_split(x_train, y_train, test_size=0.2, random_state=42)\n",
    "    \n",
    "    tuner.search(x_train_tune, y_train_tune, epochs=50, validation_data=(x_val, y_val),\n",
    "        callbacks=[tf.keras.callbacks.EarlyStopping(patience=10, restore_best_weights=True), tf.keras.callbacks.TerminateOnNaN()], verbose=1)\n",
    "    \n",
    "    # Get the BEST trained model\n",
    "    cls = tuner.get_best_models(num_models=1)[0]"
   ]
  },
  {
   "cell_type": "markdown",
   "id": "4d9bd918-d916-4746-804a-3c1ad517565d",
   "metadata": {},
   "source": [
    "### Using PyTorch"
   ]
  },
  {
   "cell_type": "code",
   "execution_count": 21,
   "id": "be4500cf-4df0-421d-8757-bc5f0cd23b9a",
   "metadata": {},
   "outputs": [],
   "source": [
    "if classification_mode == 53:\n",
    "    import torch\n",
    "    import torch.nn as nn\n",
    "    import torch.optim as optim\n",
    "    from torch.utils.data import DataLoader, TensorDataset\n",
    "\n",
    "    class NeuralNet(nn.Module):\n",
    "        def __init__(self, input_size, hidden_size, num_classes):\n",
    "            super().__init__()\n",
    "            self.net = nn.Sequential(\n",
    "                nn.Linear(input_size, hidden_size),\n",
    "                nn.BatchNorm1d(hidden_size),  # batch normalization\n",
    "                nn.ReLU(),\n",
    "                nn.Dropout(0.3),             # Regularization\n",
    "                nn.Linear(hidden_size, num_classes)\n",
    "            )\n",
    "            self.optimizer = optim.Adam(self.parameters(), lr=0.001)\n",
    "            self.criterion = nn.CrossEntropyLoss()\n",
    "        \n",
    "        def forward(self, x):\n",
    "            return self.net(x)\n",
    "        \n",
    "        def fit(self, X, y, epochs=20, batch_size=64):\n",
    "\n",
    "            # Convert to numpy arrays if they're pandas objects\n",
    "            X = X.values if hasattr(X, 'values') else np.array(X)\n",
    "            y = y.values if hasattr(y, 'values') else np.array(y)\n",
    "            \n",
    "            # Ensure y is 1D class indices (0-9)\n",
    "            if y.ndim > 1:  # If one-hot encoded\n",
    "                y = np.argmax(y, axis=1)\n",
    "            y = y.astype(np.int64).reshape(-1)  # Ensure 1D integer array\n",
    "    \n",
    "            # Convert to tensors\n",
    "            X_tensor = torch.FloatTensor(X)\n",
    "            y_tensor = torch.LongTensor(y)\n",
    "            \n",
    "            # Create DataLoader\n",
    "            dataset = TensorDataset(X_tensor, y_tensor)\n",
    "            loader = DataLoader(dataset, batch_size=batch_size, shuffle=True)\n",
    "            \n",
    "            # Training loop\n",
    "            self.train()\n",
    "            for epoch in range(epochs):\n",
    "                for batch_X, batch_y in loader:\n",
    "                    self.optimizer.zero_grad()\n",
    "                    outputs = self(batch_X)\n",
    "                    loss = self.criterion(outputs, batch_y)\n",
    "                    loss.backward()\n",
    "                    self.optimizer.step()\n",
    "                \n",
    "                # Print progress\n",
    "                if (epoch+1) % 5 == 0:\n",
    "                    print(f'Epoch {epoch+1}/{epochs}, Loss: {loss.item():.4f}')\n",
    "        \n",
    "        def predict(self, X):\n",
    "            self.eval()  # Set to evaluation mode\n",
    "            with torch.no_grad():\n",
    "                X_tensor = torch.FloatTensor(X)\n",
    "                outputs = self(X_tensor)\n",
    "                return torch.argmax(outputs, dim=1).numpy()\n",
    "\n",
    "\n",
    "    input_size = x_train.shape[1]\n",
    "    hidden_size = 256\n",
    "    num_classes = len(np.unique(y_train))\n",
    "    \n",
    "    cls = NeuralNet(input_size, hidden_size, num_classes)"
   ]
  },
  {
   "cell_type": "markdown",
   "id": "a3b1999e-3a8c-47d6-bd2e-3afff0b0b9d0",
   "metadata": {},
   "source": [
    "## SVM\n",
    "### Using Scikit Learn"
   ]
  },
  {
   "cell_type": "code",
   "execution_count": 22,
   "id": "988c6987-2d42-4395-bdbf-62e5b1bcb6bd",
   "metadata": {
    "scrolled": true
   },
   "outputs": [],
   "source": [
    "if classification_mode == 62:\n",
    "    from sklearn.svm import SVC\n",
    "    from sklearn.model_selection import GridSearchCV\n",
    "\n",
    "    param_grid = {\n",
    "        'C': [0.1, 1, 10, 100],\n",
    "        'gamma': ['scale', 'auto', 0.1, 1],\n",
    "        'kernel': ['linear', 'rbf', 'poly']}\n",
    "    \n",
    "    grid = GridSearchCV(SVC(), param_grid, refit=True, verbose=0)\n",
    "    grid.fit(x_train, y_train)\n",
    "    print(f\"Best parameters: {grid.best_params_}\")\n",
    "    print(f\"Best accuracy: {grid.best_score_:.2f}\")\n",
    "    cls = grid.best_estimator_"
   ]
  },
  {
   "cell_type": "markdown",
   "id": "54454da0-9efd-4952-a95b-4a32934da75f",
   "metadata": {},
   "source": [
    "## Training the model\n",
    "The model should have `n_class x n_features` weights."
   ]
  },
  {
   "cell_type": "code",
   "execution_count": 23,
   "id": "1f7f5a36-62d3-4a1b-be6c-28224f615758",
   "metadata": {},
   "outputs": [],
   "source": [
    "cls.fit(x_train, y_train)\n",
    "if classification_mode == 11:\n",
    "    print('The optimized weights of Logistic Regression are: ',cls.weights)\n",
    "elif classification_mode == 12:\n",
    "    print('The optimized weights of Logistic Regression are: ',cls.coef_)\n",
    "elif classification_mode == 321 or classification_mode == 322 or classification_mode == 22:\n",
    "    from sklearn.tree import plot_tree\n",
    "    importances = cls.feature_importances_\n",
    "    features = pd.DataFrame({'Feature': raw_df_tmp.feature_names,'Importance': importances}).sort_values('Importance', ascending=False)\n",
    "    plt.figure(figsize=(10,6))\n",
    "    plt.barh(features['Feature'], features['Importance'])\n",
    "    plt.title(\"Feature Importances\")\n",
    "    plt.show()   \n",
    "    if classification_mode == 22:\n",
    "        from sklearn.tree import plot_tree\n",
    "        plt.figure(figsize=(12,8))\n",
    "        plot_tree(cls, filled=True, feature_names=raw_df_tmp.feature_names, class_names=raw_df_tmp.feature_names)\n",
    "        plt.title(\"Decision Tree Visualization\")\n",
    "        plt.show()        \n",
    "elif classification_mode == 52:\n",
    "    print(\"Model Summary:\")\n",
    "    cls.summary()\n",
    "\n",
    "y_pred = cls.predict(x_test)\n",
    "if classification_mode == 52:\n",
    "    if len(np.unique(y_train)) == 2:\n",
    "        y_pred = (y_pred > 0.5).astype(int)\n",
    "    else:\n",
    "        y_pred = np.argmax(y_pred, axis=1)\n",
    "    y_test_labels = np.argmax(y_test, axis=1) if len(y_test.shape) > 1 else y_test\n"
   ]
  },
  {
   "cell_type": "markdown",
   "id": "b1f8b443-952a-4ffc-8973-a47725635e10",
   "metadata": {},
   "source": [
    "# Performance Analysis"
   ]
  },
  {
   "cell_type": "code",
   "execution_count": 24,
   "id": "01113244-8462-4790-86ab-fc597f3ea8a8",
   "metadata": {},
   "outputs": [
    {
     "name": "stdout",
     "output_type": "stream",
     "text": [
      "Multiclass Accuracy: 0.9777777777777777\n",
      "Confusion Matrix:\n",
      "[[19  0  0]\n",
      " [ 0 12  1]\n",
      " [ 0  0 13]]\n",
      "Classification Report:\n",
      "              precision    recall  f1-score   support\n",
      "\n",
      "           0       1.00      1.00      1.00        19\n",
      "           1       1.00      0.92      0.96        13\n",
      "           2       0.93      1.00      0.96        13\n",
      "\n",
      "    accuracy                           0.98        45\n",
      "   macro avg       0.98      0.97      0.97        45\n",
      "weighted avg       0.98      0.98      0.98        45\n",
      "\n"
     ]
    },
    {
     "data": {
      "image/png": "[encoded data removed]",
      "text/plain": [
       "<Figure size 640x480 with 2 Axes>"
      ]
     },
     "metadata": {},
     "output_type": "display_data"
    }
   ],
   "source": [
    "print(f\"Multiclass Accuracy: {accuracy_score(y_test, y_pred)}\")\n",
    "cm = confusion_matrix(y_test, y_pred)\n",
    "print(\"Confusion Matrix:\")\n",
    "print(cm)\n",
    "\n",
    "# Evaluation\n",
    "print(\"Classification Report:\")\n",
    "print(classification_report(y_test, y_pred))\n",
    "\n",
    "# Visualize the confusion matrix\n",
    "disp = ConfusionMatrixDisplay(confusion_matrix=cm)\n",
    "disp.plot()\n",
    "plt.title(\"Confusion Matrix\")\n",
    "plt.show()"
   ]
  },
  {
   "cell_type": "code",
   "execution_count": null,
   "id": "8df934cc-b427-4c71-bd80-f78cad06b66b",
   "metadata": {},
   "outputs": [],
   "source": []
  }
 ],
 "metadata": {
  "kernelspec": {
   "display_name": "Python 3 (ipykernel)",
   "language": "python",
   "name": "python3"
  },
  "language_info": {
   "codemirror_mode": {
    "name": "ipython",
    "version": 3
   },
   "file_extension": ".py",
   "mimetype": "text/x-python",
   "name": "python",
   "nbconvert_exporter": "python",
   "pygments_lexer": "ipython3",
   "version": "3.12.7"
  }
 },
 "nbformat": 4,
 "nbformat_minor": 5
}
